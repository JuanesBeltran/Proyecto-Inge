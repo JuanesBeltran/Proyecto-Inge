{
 "cells": [
  {
   "cell_type": "code",
   "execution_count": 21,
   "id": "1f44741f",
   "metadata": {},
   "outputs": [
    {
     "data": {
      "text/plain": [
       "array([<AxesSubplot:ylabel='num_orden'>], dtype=object)"
      ]
     },
     "execution_count": 21,
     "metadata": {},
     "output_type": "execute_result"
    },
    {
     "data": {
      "image/png": "[encoded data removed]",
      "text/plain": [
       "<Figure size 432x288 with 1 Axes>"
      ]
     },
     "metadata": {
      "needs_background": "light"
     },
     "output_type": "display_data"
    },
    {
     "data": {
      "image/png": "[encoded data removed]",
      "text/plain": [
       "<Figure size 432x288 with 1 Axes>"
      ]
     },
     "metadata": {},
     "output_type": "display_data"
    }
   ],
   "source": [
    "import pandas as pd\n",
    "import plotly as plt\n",
    "import psycopg2 as psy\n",
    "\n",
    "df_restaurante=pd.read_csv(\"restaurante.csv\")\n",
    "df_clientes=pd.read_csv(\"clientes.csv\")\n",
    "df_factura=pd.read_csv(\"factura.csv\")\n",
    "df_orden=pd.read_csv(\"orden.csv\")\n",
    "df_suma=pd.read_csv(\"suma_pedidos.csv\")\n",
    "df_comida_precio=pd.read_csv(\"group_comida_preciototal.csv\")\n",
    "\n",
    "graph_res=df_restaurante[\"tot_ped\"].plot(kind= 'bar', x=\"restaturante\", y=\"total pedidos\")\n",
    "df_factura.groupby('precio_total').sum().plot(kind='pie', subplots=True)\n",
    "#df_comida_precio.plot.scatter(y=\"total\",x=\"comida\")"
   ]
  },
  {
   "cell_type": "code",
   "execution_count": 14,
   "id": "4eff3463",
   "metadata": {
    "tags": []
   },
   "outputs": [
    {
     "name": "stdout",
     "output_type": "stream",
     "text": [
      "['total;comida;id_restaurante']\n"
     ]
    }
   ],
   "source": [
    "print(df_comida_precio.columns.tolist())"
   ]
  },
  {
   "cell_type": "code",
   "execution_count": 19,
   "id": "5b5746ff",
   "metadata": {
    "collapsed": true,
    "jupyter": {
     "outputs_hidden": true
    },
    "tags": []
   },
   "outputs": [
    {
     "data": {
      "text/html": [
       "<div>\n",
       "<style scoped>\n",
       "    .dataframe tbody tr th:only-of-type {\n",
       "        vertical-align: middle;\n",
       "    }\n",
       "\n",
       "    .dataframe tbody tr th {\n",
       "        vertical-align: top;\n",
       "    }\n",
       "\n",
       "    .dataframe thead th {\n",
       "        text-align: right;\n",
       "    }\n",
       "</style>\n",
       "<table border=\"1\" class=\"dataframe\">\n",
       "  <thead>\n",
       "    <tr style=\"text-align: right;\">\n",
       "      <th></th>\n",
       "      <th>num_fac</th>\n",
       "      <th>id;fecha</th>\n",
       "      <th>num_orden</th>\n",
       "      <th>comida</th>\n",
       "      <th>id_res</th>\n",
       "      <th>precio_total</th>\n",
       "    </tr>\n",
       "  </thead>\n",
       "  <tbody>\n",
       "    <tr>\n",
       "      <th>F1</th>\n",
       "      <td>I6</td>\n",
       "      <td>5/02/2022</td>\n",
       "      <td>101</td>\n",
       "      <td>Hamburguesa</td>\n",
       "      <td>R1</td>\n",
       "      <td>80000</td>\n",
       "    </tr>\n",
       "    <tr>\n",
       "      <th>F2</th>\n",
       "      <td>I4</td>\n",
       "      <td>5/02/2022</td>\n",
       "      <td>221</td>\n",
       "      <td>Coctel</td>\n",
       "      <td>R4</td>\n",
       "      <td>160000</td>\n",
       "    </tr>\n",
       "    <tr>\n",
       "      <th>F3</th>\n",
       "      <td>I1</td>\n",
       "      <td>5/02/2022</td>\n",
       "      <td>789</td>\n",
       "      <td>Barras de pescado</td>\n",
       "      <td>R5</td>\n",
       "      <td>20000</td>\n",
       "    </tr>\n",
       "    <tr>\n",
       "      <th>F4</th>\n",
       "      <td>I3</td>\n",
       "      <td>5/02/2022</td>\n",
       "      <td>410</td>\n",
       "      <td>Shawarma</td>\n",
       "      <td>R6</td>\n",
       "      <td>90000</td>\n",
       "    </tr>\n",
       "    <tr>\n",
       "      <th>F5</th>\n",
       "      <td>I5</td>\n",
       "      <td>5/02/2022</td>\n",
       "      <td>753</td>\n",
       "      <td>Ensalada de frutas</td>\n",
       "      <td>R2</td>\n",
       "      <td>60000</td>\n",
       "    </tr>\n",
       "  </tbody>\n",
       "</table>\n",
       "</div>"
      ],
      "text/plain": [
       "   num_fac   id;fecha  num_orden              comida id_res  precio_total\n",
       "F1      I6  5/02/2022        101         Hamburguesa     R1         80000\n",
       "F2      I4  5/02/2022        221              Coctel     R4        160000\n",
       "F3      I1  5/02/2022        789   Barras de pescado     R5         20000\n",
       "F4      I3  5/02/2022        410            Shawarma     R6         90000\n",
       "F5      I5  5/02/2022        753  Ensalada de frutas     R2         60000"
      ]
     },
     "execution_count": 19,
     "metadata": {},
     "output_type": "execute_result"
    }
   ],
   "source": [
    "df_factura"
   ]
  },
  {
   "cell_type": "code",
   "execution_count": null,
   "id": "52ddaba8",
   "metadata": {
    "tags": []
   },
   "outputs": [],
   "source": []
  },
  {
   "cell_type": "code",
   "execution_count": null,
   "id": "80bbe0e0",
   "metadata": {
    "jupyter": {
     "source_hidden": true
    },
    "tags": []
   },
   "outputs": [],
   "source": []
  }
 ],
 "metadata": {
  "kernelspec": {
   "display_name": "Python 3 (ipykernel)",
   "language": "python",
   "name": "python3"
  },
  "language_info": {
   "codemirror_mode": {
    "name": "ipython",
    "version": 3
   },
   "file_extension": ".py",
   "mimetype": "text/x-python",
   "name": "python",
   "nbconvert_exporter": "python",
   "pygments_lexer": "ipython3",
   "version": "3.9.7"
  }
 },
 "nbformat": 4,
 "nbformat_minor": 5
}
